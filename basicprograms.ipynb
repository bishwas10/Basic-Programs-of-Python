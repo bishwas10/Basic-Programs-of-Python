{
 "cells": [
  {
   "cell_type": "code",
   "execution_count": 1,
   "id": "19553c47-560c-48e1-9d03-fa8c52727e21",
   "metadata": {},
   "outputs": [
    {
     "name": "stdout",
     "output_type": "stream",
     "text": [
      "Hello Wordl\n"
     ]
    }
   ],
   "source": [
    "print (\"Hello Wordl\")"
   ]
  },
  {
   "cell_type": "code",
   "execution_count": null,
   "id": "f26f9df5-e6f3-4ecb-a27a-bf08546cde69",
   "metadata": {},
   "outputs": [],
   "source": [
    "print(2+3)\n"
   ]
  },
  {
   "cell_type": "code",
   "execution_count": 3,
   "id": "143f79c3-cf4c-44de-9aec-f79a25623461",
   "metadata": {},
   "outputs": [
    {
     "name": "stdout",
     "output_type": "stream",
     "text": [
      "4\n"
     ]
    }
   ],
   "source": [
    "print (9-5)"
   ]
  },
  {
   "cell_type": "code",
   "execution_count": null,
   "id": "19bb1e19-ef7f-4dd6-88a3-10496ff0db17",
   "metadata": {},
   "outputs": [],
   "source": []
  }
 ],
 "metadata": {
  "kernelspec": {
   "display_name": "Python 3 (ipykernel)",
   "language": "python",
   "name": "python3"
  },
  "language_info": {
   "codemirror_mode": {
    "name": "ipython",
    "version": 3
   },
   "file_extension": ".py",
   "mimetype": "text/x-python",
   "name": "python",
   "nbconvert_exporter": "python",
   "pygments_lexer": "ipython3",
   "version": "3.11.7"
  }
 },
 "nbformat": 4,
 "nbformat_minor": 5
}
